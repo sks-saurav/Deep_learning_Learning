{
  "nbformat": 4,
  "nbformat_minor": 0,
  "metadata": {
    "colab": {
      "name": "first_model.ipynb",
      "provenance": [],
      "collapsed_sections": [],
      "authorship_tag": "ABX9TyNB0kVD65O/Mt4vwEr7ZKtM",
      "include_colab_link": true
    },
    "kernelspec": {
      "name": "python3",
      "display_name": "Python 3"
    },
    "language_info": {
      "name": "python"
    }
  },
  "cells": [
    {
      "cell_type": "markdown",
      "metadata": {
        "id": "view-in-github",
        "colab_type": "text"
      },
      "source": [
        "<a href=\"https://colab.research.google.com/github/sks-saurav/Deep_learning_Learning/blob/main/first_model.ipynb\" target=\"_parent\"><img src=\"https://colab.research.google.com/assets/colab-badge.svg\" alt=\"Open In Colab\"/></a>"
      ]
    },
    {
      "cell_type": "code",
      "metadata": {
        "id": "4oeXVg-20l_o"
      },
      "source": [
        "import numpy as np\n",
        "from random import randint\n",
        "from sklearn.utils import shuffle\n",
        "from sklearn.preprocessing import MinMaxScaler"
      ],
      "execution_count": 7,
      "outputs": []
    },
    {
      "cell_type": "code",
      "metadata": {
        "id": "DHRxlA_81hCu"
      },
      "source": [
        "train_labels = []\n",
        "train_samples = []"
      ],
      "execution_count": 8,
      "outputs": []
    },
    {
      "cell_type": "code",
      "metadata": {
        "id": "m-919WR_1oAx"
      },
      "source": [
        "for i in range(50):\n",
        "    # The ~5% of younger individuals who did experience side effects\n",
        "    random_younger = randint(13,64)\n",
        "    train_samples.append(random_younger)\n",
        "    train_labels.append(1)\n",
        "\n",
        "    # The ~5% of older individuals who did not experience side effects\n",
        "    random_older = randint(65,100)\n",
        "    train_samples.append(random_older)\n",
        "    train_labels.append(0)\n",
        "\n",
        "for i in range(1000):\n",
        "    # The ~95% of younger individuals who did not experience side effects\n",
        "    random_younger = randint(13,64)\n",
        "    train_samples.append(random_younger)\n",
        "    train_labels.append(0)\n",
        "\n",
        "    # The ~95% of older individuals who did experience side effects\n",
        "    random_older = randint(65,100)\n",
        "    train_samples.append(random_older)\n",
        "    train_labels.append(1)"
      ],
      "execution_count": 9,
      "outputs": []
    },
    {
      "cell_type": "code",
      "metadata": {
        "id": "amcRSyr23GIK"
      },
      "source": [
        "for i in train_samples:\n",
        "    print(i)"
      ],
      "execution_count": null,
      "outputs": []
    },
    {
      "cell_type": "code",
      "metadata": {
        "id": "iqnk8CJJ3GVu"
      },
      "source": [
        "for i in train_labels:\n",
        "    print(i)"
      ],
      "execution_count": null,
      "outputs": []
    },
    {
      "cell_type": "code",
      "metadata": {
        "id": "9KSnlnmz3Geq"
      },
      "source": [
        "train_labels = np.array(train_labels)\n",
        "train_samples = np.array(train_samples)\n",
        "train_labels, train_samples = shuffle(train_labels, train_samples)"
      ],
      "execution_count": 11,
      "outputs": []
    },
    {
      "cell_type": "code",
      "metadata": {
        "id": "oYdpB8CD3GhX"
      },
      "source": [
        "scaler = MinMaxScaler(feature_range=(0,1))\n",
        "scaled_train_samples = scaler.fit_transform(train_samples.reshape(-1,1))"
      ],
      "execution_count": 12,
      "outputs": []
    },
    {
      "cell_type": "code",
      "metadata": {
        "id": "Dv7F4Uyn3GkW"
      },
      "source": [
        "for i in scaled_train_samples:\n",
        "  print(i)"
      ],
      "execution_count": null,
      "outputs": []
    },
    {
      "cell_type": "code",
      "metadata": {
        "id": "HLoKqo1W-7gk"
      },
      "source": [
        "import tensorflow as tf\n",
        "from tensorflow import keras\n",
        "from tensorflow.keras.models import Sequential\n",
        "from tensorflow.keras.layers import Activation, Dense\n",
        "from tensorflow.keras.optimizers import Adam\n",
        "from tensorflow.keras.metrics import categorical_crossentropy"
      ],
      "execution_count": 14,
      "outputs": []
    },
    {
      "cell_type": "code",
      "metadata": {
        "colab": {
          "base_uri": "https://localhost:8080/"
        },
        "id": "uiEnsFjG_4_P",
        "outputId": "044290a6-f7f0-4abd-ccbf-c2a7b8e27a57"
      },
      "source": [
        "physical_devices = tf.config.experimental.list_physical_devices('GPU')\n",
        "print(\"Num GPUs Available: \", len(physical_devices))\n",
        "print(tf.version.VERSION)\n",
        "#tf.config.experimental.set_memory_growth(physical_devices[0], True)"
      ],
      "execution_count": 17,
      "outputs": [
        {
          "output_type": "stream",
          "text": [
            "Num GPUs Available:  0\n",
            "2.4.1\n"
          ],
          "name": "stdout"
        }
      ]
    },
    {
      "cell_type": "code",
      "metadata": {
        "id": "0yCaERm8AJMZ"
      },
      "source": [
        "model = Sequential([\n",
        "                    Dense(units = 16, input_shape = (1,), activation= 'relu'),\n",
        "                    Dense(units=32, activation='relu'),\n",
        "                    Dense(units=2, activation='softmax')\n",
        "])"
      ],
      "execution_count": 18,
      "outputs": []
    },
    {
      "cell_type": "code",
      "metadata": {
        "colab": {
          "base_uri": "https://localhost:8080/"
        },
        "id": "EEswPmqQA2fB",
        "outputId": "275c689a-9c25-47bf-9511-37a3bda93ea1"
      },
      "source": [
        "model.summary()"
      ],
      "execution_count": 19,
      "outputs": [
        {
          "output_type": "stream",
          "text": [
            "Model: \"sequential\"\n",
            "_________________________________________________________________\n",
            "Layer (type)                 Output Shape              Param #   \n",
            "=================================================================\n",
            "dense (Dense)                (None, 16)                32        \n",
            "_________________________________________________________________\n",
            "dense_1 (Dense)              (None, 32)                544       \n",
            "_________________________________________________________________\n",
            "dense_2 (Dense)              (None, 2)                 66        \n",
            "=================================================================\n",
            "Total params: 642\n",
            "Trainable params: 642\n",
            "Non-trainable params: 0\n",
            "_________________________________________________________________\n"
          ],
          "name": "stdout"
        }
      ]
    },
    {
      "cell_type": "code",
      "metadata": {
        "id": "AMyI0gULBIiv"
      },
      "source": [
        "model.compile(optimizer=Adam(learning_rate=0.0001), \n",
        "              loss='sparse_categorical_crossentropy', \n",
        "              metrics=['accuracy']\n",
        "              )"
      ],
      "execution_count": 20,
      "outputs": []
    },
    {
      "cell_type": "code",
      "metadata": {
        "colab": {
          "base_uri": "https://localhost:8080/"
        },
        "id": "erfz3b4TFB4m",
        "outputId": "f947636d-2927-472d-976a-d1212bcac6e9"
      },
      "source": [
        "model.fit(  x=scaled_train_samples, \n",
        "            y=train_labels,\n",
        "            validation_split = 0.1,\n",
        "            batch_size=10, \n",
        "            epochs=30,\n",
        "            verbose=2\n",
        "          )"
      ],
      "execution_count": 21,
      "outputs": [
        {
          "output_type": "stream",
          "text": [
            "Epoch 1/30\n",
            "189/189 - 1s - loss: 0.7575 - accuracy: 0.4746 - val_loss: 0.7262 - val_accuracy: 0.5762\n",
            "Epoch 2/30\n",
            "189/189 - 0s - loss: 0.7170 - accuracy: 0.4915 - val_loss: 0.6941 - val_accuracy: 0.5762\n",
            "Epoch 3/30\n",
            "189/189 - 0s - loss: 0.6816 - accuracy: 0.7302 - val_loss: 0.6673 - val_accuracy: 0.8095\n",
            "Epoch 4/30\n",
            "189/189 - 0s - loss: 0.6538 - accuracy: 0.7958 - val_loss: 0.6411 - val_accuracy: 0.8000\n",
            "Epoch 5/30\n",
            "189/189 - 0s - loss: 0.6258 - accuracy: 0.7995 - val_loss: 0.6148 - val_accuracy: 0.8000\n",
            "Epoch 6/30\n",
            "189/189 - 0s - loss: 0.6004 - accuracy: 0.8132 - val_loss: 0.5901 - val_accuracy: 0.8000\n",
            "Epoch 7/30\n",
            "189/189 - 0s - loss: 0.5745 - accuracy: 0.8280 - val_loss: 0.5621 - val_accuracy: 0.8286\n",
            "Epoch 8/30\n",
            "189/189 - 0s - loss: 0.5478 - accuracy: 0.8317 - val_loss: 0.5337 - val_accuracy: 0.8619\n",
            "Epoch 9/30\n",
            "189/189 - 0s - loss: 0.5220 - accuracy: 0.8487 - val_loss: 0.5084 - val_accuracy: 0.8619\n",
            "Epoch 10/30\n",
            "189/189 - 0s - loss: 0.4975 - accuracy: 0.8519 - val_loss: 0.4812 - val_accuracy: 0.8714\n",
            "Epoch 11/30\n",
            "189/189 - 0s - loss: 0.4742 - accuracy: 0.8603 - val_loss: 0.4541 - val_accuracy: 0.8857\n",
            "Epoch 12/30\n",
            "189/189 - 0s - loss: 0.4501 - accuracy: 0.8730 - val_loss: 0.4277 - val_accuracy: 0.8857\n",
            "Epoch 13/30\n",
            "189/189 - 0s - loss: 0.4276 - accuracy: 0.8815 - val_loss: 0.4032 - val_accuracy: 0.8905\n",
            "Epoch 14/30\n",
            "189/189 - 0s - loss: 0.4080 - accuracy: 0.8873 - val_loss: 0.3827 - val_accuracy: 0.9048\n",
            "Epoch 15/30\n",
            "189/189 - 0s - loss: 0.3906 - accuracy: 0.8899 - val_loss: 0.3625 - val_accuracy: 0.9143\n",
            "Epoch 16/30\n",
            "189/189 - 0s - loss: 0.3755 - accuracy: 0.8989 - val_loss: 0.3475 - val_accuracy: 0.9143\n",
            "Epoch 17/30\n",
            "189/189 - 0s - loss: 0.3621 - accuracy: 0.8989 - val_loss: 0.3317 - val_accuracy: 0.9143\n",
            "Epoch 18/30\n",
            "189/189 - 0s - loss: 0.3506 - accuracy: 0.9074 - val_loss: 0.3206 - val_accuracy: 0.9143\n",
            "Epoch 19/30\n",
            "189/189 - 0s - loss: 0.3403 - accuracy: 0.9016 - val_loss: 0.3084 - val_accuracy: 0.9143\n",
            "Epoch 20/30\n",
            "189/189 - 0s - loss: 0.3313 - accuracy: 0.9111 - val_loss: 0.2981 - val_accuracy: 0.9143\n",
            "Epoch 21/30\n",
            "189/189 - 0s - loss: 0.3234 - accuracy: 0.9132 - val_loss: 0.2880 - val_accuracy: 0.9190\n",
            "Epoch 22/30\n",
            "189/189 - 0s - loss: 0.3158 - accuracy: 0.9196 - val_loss: 0.2791 - val_accuracy: 0.9190\n",
            "Epoch 23/30\n",
            "189/189 - 0s - loss: 0.3096 - accuracy: 0.9222 - val_loss: 0.2738 - val_accuracy: 0.9190\n",
            "Epoch 24/30\n",
            "189/189 - 0s - loss: 0.3043 - accuracy: 0.9212 - val_loss: 0.2662 - val_accuracy: 0.9190\n",
            "Epoch 25/30\n",
            "189/189 - 0s - loss: 0.2999 - accuracy: 0.9249 - val_loss: 0.2606 - val_accuracy: 0.9190\n",
            "Epoch 26/30\n",
            "189/189 - 0s - loss: 0.2958 - accuracy: 0.9233 - val_loss: 0.2566 - val_accuracy: 0.9190\n",
            "Epoch 27/30\n",
            "189/189 - 0s - loss: 0.2924 - accuracy: 0.9212 - val_loss: 0.2505 - val_accuracy: 0.9381\n",
            "Epoch 28/30\n",
            "189/189 - 0s - loss: 0.2895 - accuracy: 0.9323 - val_loss: 0.2479 - val_accuracy: 0.9190\n",
            "Epoch 29/30\n",
            "189/189 - 0s - loss: 0.2869 - accuracy: 0.9296 - val_loss: 0.2451 - val_accuracy: 0.9190\n",
            "Epoch 30/30\n",
            "189/189 - 0s - loss: 0.2845 - accuracy: 0.9296 - val_loss: 0.2422 - val_accuracy: 0.9190\n"
          ],
          "name": "stdout"
        },
        {
          "output_type": "execute_result",
          "data": {
            "text/plain": [
              "<tensorflow.python.keras.callbacks.History at 0x7f7c338eec50>"
            ]
          },
          "metadata": {
            "tags": []
          },
          "execution_count": 21
        }
      ]
    },
    {
      "cell_type": "code",
      "metadata": {
        "id": "IE-3wzIsFgf-"
      },
      "source": [
        "test_samples = []\n",
        "test_labels = []"
      ],
      "execution_count": 22,
      "outputs": []
    },
    {
      "cell_type": "code",
      "metadata": {
        "id": "gIgRjbVcLAcR"
      },
      "source": [
        "for i in range(10):\n",
        "  val = randint(13,64)\n",
        "  test_samples.append(val)\n",
        "  test_labels.append(1)\n",
        "\n",
        "for i in range(10):\n",
        "  val = randint(65,100)\n",
        "  test_samples.append(val)\n",
        "  test_labels.append(0)\n",
        "\n",
        "for i in range(200):\n",
        "  val = randint(13,64)\n",
        "  test_samples.append(val)\n",
        "  test_labels.append(0)\n",
        "\n",
        "for i in range(200):\n",
        "  val = randint(65,100)\n",
        "  test_samples.append(val)\n",
        "  test_labels.append(1)"
      ],
      "execution_count": 23,
      "outputs": []
    },
    {
      "cell_type": "code",
      "metadata": {
        "id": "Fh-a-8T4OEuq"
      },
      "source": [
        "test_samples = np.array(test_samples)\n",
        "test_labels = np.array(test_labels)\n",
        "test_samples, test_labels = shuffle(test_samples, test_labels)"
      ],
      "execution_count": 24,
      "outputs": []
    },
    {
      "cell_type": "code",
      "metadata": {
        "id": "djO4lXmHMmUz"
      },
      "source": [
        "scaled_test_samples = scaler.fit_transform(test_samples.reshape(-1,1))"
      ],
      "execution_count": 25,
      "outputs": []
    },
    {
      "cell_type": "code",
      "metadata": {
        "colab": {
          "base_uri": "https://localhost:8080/"
        },
        "id": "BMAx2JpgOhBM",
        "outputId": "84f29b36-1956-44f1-8584-fe82a35ed19d"
      },
      "source": [
        "predictions = model.predict(scaled_test_samples,\n",
        "                           batch_size = 10,\n",
        "                           verbose=1)"
      ],
      "execution_count": 31,
      "outputs": [
        {
          "output_type": "stream",
          "text": [
            "42/42 [==============================] - 0s 872us/step\n"
          ],
          "name": "stdout"
        }
      ]
    },
    {
      "cell_type": "code",
      "metadata": {
        "id": "jtGFrNu1O4aa"
      },
      "source": [
        "for i in predictions:\n",
        "  print(i)"
      ],
      "execution_count": null,
      "outputs": []
    },
    {
      "cell_type": "code",
      "metadata": {
        "id": "XNznuk0bPHcb"
      },
      "source": [
        "rounded_predictions = np.argmax(predictions, axis=-1)\n",
        "for i in rounded_predictions:\n",
        "  print(i)"
      ],
      "execution_count": null,
      "outputs": []
    },
    {
      "cell_type": "code",
      "metadata": {
        "colab": {
          "base_uri": "https://localhost:8080/"
        },
        "id": "yhOtUJNXWQdO",
        "outputId": "2fec13d0-83fe-44a2-e4a9-b6e36f1f1b50"
      },
      "source": [
        "print(test_samples.size)\n",
        "print(test_labels.size)\n",
        "print(predictions.size)\n",
        "print(rounded_predictions.size)"
      ],
      "execution_count": 32,
      "outputs": [
        {
          "output_type": "stream",
          "text": [
            "420\n",
            "420\n",
            "840\n",
            "420\n"
          ],
          "name": "stdout"
        }
      ]
    },
    {
      "cell_type": "code",
      "metadata": {
        "id": "OKiz7UDDUQU4"
      },
      "source": [
        "%matplotlib inline\n",
        "from sklearn.metrics import confusion_matrix\n",
        "import itertools\n",
        "import matplotlib.pyplot as plt"
      ],
      "execution_count": 33,
      "outputs": []
    },
    {
      "cell_type": "code",
      "metadata": {
        "id": "glODs-DSUp_k"
      },
      "source": [
        "cm = confusion_matrix(y_true=test_labels, y_pred=rounded_predictions)"
      ],
      "execution_count": 34,
      "outputs": []
    },
    {
      "cell_type": "code",
      "metadata": {
        "id": "OZOvG6v1b6oX"
      },
      "source": [
        "def plot_confusion_matrix(cm, classes,\n",
        "                        normalize=False,\n",
        "                        title='Confusion matrix',\n",
        "                        cmap=plt.cm.Blues):\n",
        "    \"\"\"\n",
        "    This function prints and plots the confusion matrix.\n",
        "    Normalization can be applied by setting `normalize=True`.\n",
        "    \"\"\"\n",
        "    plt.imshow(cm, interpolation='nearest', cmap=cmap)\n",
        "    plt.title(title)\n",
        "    plt.colorbar()\n",
        "    tick_marks = np.arange(len(classes))\n",
        "    plt.xticks(tick_marks, classes, rotation=45)\n",
        "    plt.yticks(tick_marks, classes)\n",
        "\n",
        "    if normalize:\n",
        "        cm = cm.astype('float') / cm.sum(axis=1)[:, np.newaxis]\n",
        "        print(\"Normalized confusion matrix\")\n",
        "    else:\n",
        "        print('Confusion matrix, without normalization')\n",
        "\n",
        "    print(cm)\n",
        "\n",
        "    thresh = cm.max() / 2.\n",
        "    for i, j in itertools.product(range(cm.shape[0]), range(cm.shape[1])):\n",
        "        plt.text(j, i, cm[i, j],\n",
        "            horizontalalignment=\"center\",\n",
        "            color=\"white\" if cm[i, j] > thresh else \"black\")\n",
        "\n",
        "    plt.tight_layout()\n",
        "    plt.ylabel('True label')\n",
        "    plt.xlabel('Predicted label')"
      ],
      "execution_count": 35,
      "outputs": []
    },
    {
      "cell_type": "code",
      "metadata": {
        "id": "R_wpcl2EcRpX"
      },
      "source": [
        "cm_plot_labels = ['no_side_effects','had_side_effects']"
      ],
      "execution_count": 36,
      "outputs": []
    },
    {
      "cell_type": "code",
      "metadata": {
        "colab": {
          "base_uri": "https://localhost:8080/",
          "height": 361
        },
        "id": "6knA3JbVcZWh",
        "outputId": "e702585c-19c9-4bb8-8ac0-6ca55c235a4f"
      },
      "source": [
        "plot_confusion_matrix(cm=cm, classes=cm_plot_labels, title='Confusion Matrix')"
      ],
      "execution_count": 37,
      "outputs": [
        {
          "output_type": "stream",
          "text": [
            "Confusion matrix, without normalization\n",
            "[[186  24]\n",
            " [ 10 200]]\n"
          ],
          "name": "stdout"
        },
        {
          "output_type": "display_data",
          "data": {
            "image/png": "[encoded data removed]",
            "text/plain": [
              "<Figure size 432x288 with 2 Axes>"
            ]
          },
          "metadata": {
            "tags": [],
            "needs_background": "light"
          }
        }
      ]
    },
    {
      "cell_type": "code",
      "metadata": {
        "id": "40JCbBAkdoGX"
      },
      "source": [
        "import os\n",
        "if os.path.isfile('models/medical_trial_model.h5') is False:\n",
        "  model.save('model/medical_trial_model.h5')"
      ],
      "execution_count": 46,
      "outputs": []
    },
    {
      "cell_type": "code",
      "metadata": {
        "id": "fHn_nUuahcA0"
      },
      "source": [
        "from tensorflow.keras.models import load_model\n",
        "new_model = load_model('models/medical_trial_model.h5')"
      ],
      "execution_count": 48,
      "outputs": []
    },
    {
      "cell_type": "code",
      "metadata": {
        "colab": {
          "base_uri": "https://localhost:8080/"
        },
        "id": "ueKzKrYlh2ft",
        "outputId": "42d912c3-a0ff-464d-aefb-db8970b229ab"
      },
      "source": [
        "new_model.summary()"
      ],
      "execution_count": 50,
      "outputs": [
        {
          "output_type": "stream",
          "text": [
            "Model: \"sequential\"\n",
            "_________________________________________________________________\n",
            "Layer (type)                 Output Shape              Param #   \n",
            "=================================================================\n",
            "dense (Dense)                (None, 16)                32        \n",
            "_________________________________________________________________\n",
            "dense_1 (Dense)              (None, 32)                544       \n",
            "_________________________________________________________________\n",
            "dense_2 (Dense)              (None, 2)                 66        \n",
            "=================================================================\n",
            "Total params: 642\n",
            "Trainable params: 642\n",
            "Non-trainable params: 0\n",
            "_________________________________________________________________\n"
          ],
          "name": "stdout"
        }
      ]
    },
    {
      "cell_type": "code",
      "metadata": {
        "id": "PS3oXRezidm7"
      },
      "source": [
        "new_model.get_weights()"
      ],
      "execution_count": null,
      "outputs": []
    },
    {
      "cell_type": "code",
      "metadata": {
        "colab": {
          "base_uri": "https://localhost:8080/"
        },
        "id": "hwP7mPUkishM",
        "outputId": "8392ec6e-8e6f-4a30-e08b-feea81e1ed20"
      },
      "source": [
        "new_model.optimizer"
      ],
      "execution_count": 52,
      "outputs": [
        {
          "output_type": "execute_result",
          "data": {
            "text/plain": [
              "<tensorflow.python.keras.optimizer_v2.adam.Adam at 0x7f7c2fb22710>"
            ]
          },
          "metadata": {
            "tags": []
          },
          "execution_count": 52
        }
      ]
    },
    {
      "cell_type": "code",
      "metadata": {
        "colab": {
          "base_uri": "https://localhost:8080/",
          "height": 253
        },
        "id": "nk1d4xw7jLI1",
        "outputId": "97ea0f0c-f99e-4fc7-9c61-b7555f7c2c8b"
      },
      "source": [
        "json_string = model.to_json()\n",
        "json_string"
      ],
      "execution_count": 53,
      "outputs": [
        {
          "output_type": "execute_result",
          "data": {
            "application/vnd.google.colaboratory.intrinsic+json": {
              "type": "string"
            },
            "text/plain": [
              "'{\"class_name\": \"Sequential\", \"config\": {\"name\": \"sequential\", \"layers\": [{\"class_name\": \"InputLayer\", \"config\": {\"batch_input_shape\": [null, 1], \"dtype\": \"float32\", \"sparse\": false, \"ragged\": false, \"name\": \"dense_input\"}}, {\"class_name\": \"Dense\", \"config\": {\"name\": \"dense\", \"trainable\": true, \"batch_input_shape\": [null, 1], \"dtype\": \"float32\", \"units\": 16, \"activation\": \"relu\", \"use_bias\": true, \"kernel_initializer\": {\"class_name\": \"GlorotUniform\", \"config\": {\"seed\": null}}, \"bias_initializer\": {\"class_name\": \"Zeros\", \"config\": {}}, \"kernel_regularizer\": null, \"bias_regularizer\": null, \"activity_regularizer\": null, \"kernel_constraint\": null, \"bias_constraint\": null}}, {\"class_name\": \"Dense\", \"config\": {\"name\": \"dense_1\", \"trainable\": true, \"dtype\": \"float32\", \"units\": 32, \"activation\": \"relu\", \"use_bias\": true, \"kernel_initializer\": {\"class_name\": \"GlorotUniform\", \"config\": {\"seed\": null}}, \"bias_initializer\": {\"class_name\": \"Zeros\", \"config\": {}}, \"kernel_regularizer\": null, \"bias_regularizer\": null, \"activity_regularizer\": null, \"kernel_constraint\": null, \"bias_constraint\": null}}, {\"class_name\": \"Dense\", \"config\": {\"name\": \"dense_2\", \"trainable\": true, \"dtype\": \"float32\", \"units\": 2, \"activation\": \"softmax\", \"use_bias\": true, \"kernel_initializer\": {\"class_name\": \"GlorotUniform\", \"config\": {\"seed\": null}}, \"bias_initializer\": {\"class_name\": \"Zeros\", \"config\": {}}, \"kernel_regularizer\": null, \"bias_regularizer\": null, \"activity_regularizer\": null, \"kernel_constraint\": null, \"bias_constraint\": null}}]}, \"keras_version\": \"2.4.0\", \"backend\": \"tensorflow\"}'"
            ]
          },
          "metadata": {
            "tags": []
          },
          "execution_count": 53
        }
      ]
    },
    {
      "cell_type": "code",
      "metadata": {
        "colab": {
          "base_uri": "https://localhost:8080/"
        },
        "id": "Fl3DIHP2i6ao",
        "outputId": "61c2fefb-5b51-44db-b7c8-92839ddf8b42"
      },
      "source": [
        "from tensorflow.keras.models import model_from_json\n",
        "model_architecture = model_from_json(json_string)\n",
        "model_architecture.summary()"
      ],
      "execution_count": 54,
      "outputs": [
        {
          "output_type": "stream",
          "text": [
            "Model: \"sequential\"\n",
            "_________________________________________________________________\n",
            "Layer (type)                 Output Shape              Param #   \n",
            "=================================================================\n",
            "dense (Dense)                (None, 16)                32        \n",
            "_________________________________________________________________\n",
            "dense_1 (Dense)              (None, 32)                544       \n",
            "_________________________________________________________________\n",
            "dense_2 (Dense)              (None, 2)                 66        \n",
            "=================================================================\n",
            "Total params: 642\n",
            "Trainable params: 642\n",
            "Non-trainable params: 0\n",
            "_________________________________________________________________\n"
          ],
          "name": "stdout"
        }
      ]
    },
    {
      "cell_type": "code",
      "metadata": {
        "id": "ykA9vTTljr7Q"
      },
      "source": [
        "if os.path.isfile('models/my_model_weight.h5') is False:\n",
        "  model.save_weights('models/my_model_weight.h5')"
      ],
      "execution_count": 59,
      "outputs": []
    },
    {
      "cell_type": "code",
      "metadata": {
        "id": "ka87Ci9xk840"
      },
      "source": [
        "model2 = Sequential([\n",
        "                     Dense(units=16, activation='relu',input_shape=(1,)),\n",
        "                     Dense(units=32, activation='relu'),\n",
        "                     Dense(units=2, activation='softmax')\n",
        "                     \n",
        "])\n",
        "model2.load_weights('models/my_model_weight.h5')"
      ],
      "execution_count": 62,
      "outputs": []
    },
    {
      "cell_type": "code",
      "metadata": {
        "colab": {
          "base_uri": "https://localhost:8080/"
        },
        "id": "GJ_9_bjVl2Yr",
        "outputId": "7b72a8a8-1c09-4b49-9ac9-3cb6921fb204"
      },
      "source": [
        "model2.get_weights()"
      ],
      "execution_count": 63,
      "outputs": [
        {
          "output_type": "execute_result",
          "data": {
            "text/plain": [
              "[array([[-0.15328032, -0.22006044, -0.19494155,  0.36711982, -0.40737215,\n",
              "         -0.46883166,  0.52873987,  0.71350104,  0.45048785,  0.533272  ,\n",
              "         -0.09803903, -0.4067744 , -0.17124218,  0.49295434,  0.00230311,\n",
              "         -0.06550449]], dtype=float32),\n",
              " array([ 0.        ,  0.        ,  0.        , -0.10353278,  0.        ,\n",
              "         0.        , -0.14269453,  0.21158613, -0.13915221,  0.0309115 ,\n",
              "         0.        ,  0.        ,  0.        , -0.12746455, -0.00362594,\n",
              "         0.        ], dtype=float32),\n",
              " array([[ 3.14754337e-01, -3.23211372e-01, -1.67904779e-01,\n",
              "         -2.22229540e-01,  5.88733256e-02, -3.17629427e-01,\n",
              "         -3.36619794e-01, -1.46292895e-01,  2.88717061e-01,\n",
              "          9.26681757e-02,  1.96995109e-01,  1.91290468e-01,\n",
              "          2.67552227e-01,  1.06115222e-01,  1.71373188e-02,\n",
              "          1.60378844e-01,  3.48827451e-01,  3.11705261e-01,\n",
              "         -1.34657830e-01,  3.07333022e-01,  3.08700711e-01,\n",
              "          3.10882837e-01,  6.17342591e-02, -2.85159647e-02,\n",
              "         -5.15070856e-02,  1.30283833e-03, -2.14665860e-01,\n",
              "          2.30304629e-01,  1.47404999e-01,  1.75043970e-01,\n",
              "          2.24211603e-01, -3.28608930e-01],\n",
              "        [-2.46979356e-01,  1.47394270e-01,  1.26520038e-01,\n",
              "          1.76409870e-01, -2.73528993e-01,  1.34728312e-01,\n",
              "          3.37199837e-01,  3.39612395e-01,  2.45586962e-01,\n",
              "         -2.63090730e-02,  1.12606674e-01, -2.11663410e-01,\n",
              "         -2.32337445e-01, -2.42432803e-01,  3.24719548e-02,\n",
              "         -2.57031620e-02, -5.81320524e-02, -2.27785334e-01,\n",
              "          1.54709220e-02,  9.56917107e-02, -2.67865062e-01,\n",
              "          7.61509240e-02, -1.47473752e-01,  3.30832332e-01,\n",
              "          1.27097785e-01, -1.50261179e-01, -3.12890202e-01,\n",
              "         -2.39303648e-01,  1.34030700e-01, -2.36788407e-01,\n",
              "          2.43015677e-01,  2.45760649e-01],\n",
              "        [ 1.40630126e-01,  2.42441386e-01,  2.11890727e-01,\n",
              "          1.28598720e-01, -6.44955039e-03, -3.46672475e-01,\n",
              "          2.51703829e-01, -1.70714259e-02, -1.83437839e-01,\n",
              "          9.79772508e-02, -1.34240910e-01,  2.91643471e-01,\n",
              "          1.16254419e-01,  2.27554142e-02,  1.54694527e-01,\n",
              "          2.54239291e-01,  1.67163521e-01, -6.87602162e-02,\n",
              "         -6.98795915e-03, -5.33819199e-04, -2.79967785e-01,\n",
              "         -2.11604744e-01,  2.20813841e-01,  2.35144347e-01,\n",
              "         -8.70492458e-02,  2.62156099e-01, -4.01661992e-02,\n",
              "         -1.96703672e-02,  1.43889666e-01, -2.87098289e-02,\n",
              "          3.27976376e-01,  2.72574395e-01],\n",
              "        [ 6.48363769e-01,  1.56952173e-01,  2.28653744e-01,\n",
              "         -3.90589476e-01, -1.04755990e-01, -1.03346400e-01,\n",
              "          2.46677727e-01,  4.56515610e-01,  5.95067024e-01,\n",
              "         -2.94253170e-01, -1.60206575e-02,  3.16935480e-01,\n",
              "         -1.25290838e-03,  4.50006068e-01, -1.45946160e-01,\n",
              "         -4.09404844e-01, -2.67225474e-01, -3.81097555e-01,\n",
              "          7.27216005e-02,  1.85714260e-01,  1.71552040e-02,\n",
              "         -5.27893662e-01,  1.81139961e-01,  3.32080513e-01,\n",
              "         -3.43561560e-01,  5.87523580e-02, -1.15036100e-01,\n",
              "          3.11597556e-01,  1.33642167e-01, -5.48272729e-01,\n",
              "         -4.40229326e-01, -3.46829116e-01],\n",
              "        [-3.40916574e-01,  1.06530964e-01, -3.37116867e-01,\n",
              "         -1.95946097e-01,  2.69168288e-01, -2.82475352e-03,\n",
              "         -2.12692216e-01, -2.15488404e-01,  1.19763225e-01,\n",
              "         -3.42137992e-01,  2.50283808e-01,  1.52619749e-01,\n",
              "          1.76362902e-01,  9.09781158e-02, -2.18147025e-01,\n",
              "          3.05414408e-01, -2.50658423e-01,  2.83044666e-01,\n",
              "          7.27669597e-02, -5.84240556e-02,  3.01067382e-01,\n",
              "          2.25926250e-01,  2.67087370e-01, -1.98800787e-01,\n",
              "          3.31395596e-01, -2.06432983e-01,  2.28793591e-01,\n",
              "         -3.51419836e-01, -2.11276591e-01,  1.44039810e-01,\n",
              "          3.10923308e-01, -4.42677736e-02],\n",
              "        [-1.60847291e-01,  3.47063690e-01, -3.52253497e-01,\n",
              "         -5.93475699e-02,  3.32188874e-01, -1.66371480e-01,\n",
              "         -3.12689483e-01, -6.53492808e-02, -1.26735404e-01,\n",
              "          2.55851775e-01, -2.21946239e-02,  3.14979762e-01,\n",
              "         -3.90440822e-02,  2.45319337e-01,  1.40467852e-01,\n",
              "         -1.70579925e-01,  8.40861499e-02,  2.96756923e-02,\n",
              "          1.34306580e-01, -2.89222807e-01,  1.37541175e-01,\n",
              "          2.86546975e-01,  3.13936204e-01,  7.19724894e-02,\n",
              "          1.75836891e-01, -1.89531147e-02,  1.47371322e-01,\n",
              "         -1.67996585e-02, -5.49938679e-02,  2.43163377e-01,\n",
              "          3.47061664e-01,  2.96039194e-01],\n",
              "        [ 5.06920397e-01, -3.47283542e-01,  2.22191975e-01,\n",
              "         -5.07345736e-01,  1.03828810e-01,  5.17368317e-02,\n",
              "          1.84298158e-02,  5.84261902e-02,  3.19940597e-01,\n",
              "         -3.21489990e-01,  1.05173737e-01,  4.09011990e-01,\n",
              "          2.60679215e-01,  1.10327244e-01, -1.11593455e-01,\n",
              "         -3.92996997e-01,  2.27734506e-01, -1.27955481e-01,\n",
              "          2.05438763e-01, -4.50692713e-01, -1.82691950e-03,\n",
              "         -5.46119809e-01, -3.25790346e-01, -3.36340278e-01,\n",
              "         -2.59643555e-01,  2.25710183e-01, -4.84702080e-01,\n",
              "          8.47404599e-02, -4.37621623e-01, -2.77878642e-01,\n",
              "         -5.20023823e-01,  1.06670335e-01],\n",
              "        [ 2.97096312e-01, -1.28148586e-01,  2.35317558e-01,\n",
              "          2.38319278e-01, -2.42274940e-01,  1.25074938e-01,\n",
              "         -3.56106162e-02,  3.47703636e-01,  4.08225834e-01,\n",
              "          2.49222308e-01,  9.09660310e-02,  5.06051898e-01,\n",
              "         -2.95742661e-01,  4.17453855e-01,  1.97741047e-01,\n",
              "          8.14125836e-02, -8.45577270e-02,  1.28811607e-02,\n",
              "         -5.29683828e-02,  7.25088492e-02, -1.36323690e-01,\n",
              "          2.93630064e-01,  9.30510983e-02, -1.67157173e-01,\n",
              "          1.79270804e-02,  1.30218565e-02, -4.41991314e-02,\n",
              "         -2.11634070e-01,  1.47608548e-01,  2.51873612e-01,\n",
              "          7.38468394e-02, -1.42562076e-01],\n",
              "        [ 4.43753064e-01, -8.38505626e-02,  5.84716126e-02,\n",
              "         -2.88251251e-01, -4.99618143e-01,  1.09401084e-02,\n",
              "          1.17264092e-01,  1.62938178e-01,  6.52129710e-01,\n",
              "         -6.03771567e-01, -5.00135496e-02,  3.21792305e-01,\n",
              "          1.45439923e-01,  6.83597252e-02, -1.20956205e-01,\n",
              "         -2.39341348e-01,  9.32353362e-02, -4.56373602e-01,\n",
              "         -3.32474560e-01, -4.55817372e-01, -2.79497411e-02,\n",
              "         -3.77201475e-03,  8.22343528e-02,  4.84593511e-02,\n",
              "         -3.05572063e-01, -2.27049962e-01,  4.18367349e-02,\n",
              "          7.45365322e-02,  2.43323371e-01, -3.76125693e-01,\n",
              "         -4.22944754e-01, -2.94276714e-01],\n",
              "        [-9.38840285e-02,  8.21043998e-02,  2.89876461e-01,\n",
              "         -1.89693645e-02,  6.03757007e-03, -2.68335819e-01,\n",
              "         -2.48432904e-01,  4.79364097e-01, -6.56131208e-02,\n",
              "         -2.54506469e-01, -2.01852843e-02,  4.28908229e-01,\n",
              "         -6.38108253e-02,  5.26453197e-01, -2.57455915e-01,\n",
              "          2.18282595e-01,  1.83834627e-01,  1.56661600e-01,\n",
              "         -3.41983140e-01, -5.64448237e-02,  1.42677248e-01,\n",
              "         -2.36201510e-01, -1.35586515e-01, -2.59794086e-01,\n",
              "         -2.47053191e-01, -1.34119704e-01,  1.75424695e-01,\n",
              "          1.00200117e-01, -1.32775649e-01, -1.03509009e-01,\n",
              "          2.00079843e-01,  1.11836232e-01],\n",
              "        [ 8.77596140e-02,  1.66110426e-01, -7.99669921e-02,\n",
              "         -2.08093733e-01,  1.53914303e-01, -1.62091047e-01,\n",
              "         -9.06201899e-02, -1.83412209e-01,  8.90438259e-02,\n",
              "         -4.39164340e-02, -1.40348747e-01,  2.67671674e-01,\n",
              "         -1.12247586e-01,  2.80346841e-01, -3.36087227e-01,\n",
              "         -2.50949740e-01, -9.87399518e-02,  3.08139592e-01,\n",
              "         -2.05996603e-01, -3.11495483e-01,  3.42486829e-01,\n",
              "         -1.62905484e-01,  1.72236711e-01, -3.51009220e-01,\n",
              "         -2.54583061e-02, -2.78357327e-01, -2.10033923e-01,\n",
              "         -2.42955506e-01, -2.07820117e-01,  1.48945361e-01,\n",
              "         -2.02677280e-01, -1.82968989e-01],\n",
              "        [ 2.25345045e-01, -2.26518825e-01, -7.44218826e-02,\n",
              "         -1.27716079e-01,  2.48878211e-01,  2.57163793e-01,\n",
              "         -1.70363635e-01,  9.10255611e-02,  1.12334490e-01,\n",
              "          6.55063093e-02,  2.85112113e-01,  1.53417140e-01,\n",
              "          2.94312805e-01,  1.50106817e-01, -3.61912549e-02,\n",
              "         -7.21963644e-02, -1.00507766e-01,  3.25299174e-01,\n",
              "          4.71791625e-03, -1.23732105e-01, -8.44365656e-02,\n",
              "          3.02393168e-01, -3.14809144e-01, -7.87745714e-02,\n",
              "         -1.70949042e-01,  2.50562578e-01,  2.11925894e-01,\n",
              "         -2.29970738e-01,  6.60277605e-02, -1.81288511e-01,\n",
              "         -7.62748420e-02,  2.39867061e-01],\n",
              "        [-1.24931604e-01,  1.66525036e-01,  2.29076713e-01,\n",
              "          2.35527605e-01,  1.48869485e-01,  3.28841537e-01,\n",
              "         -3.33063006e-01, -2.79981494e-01,  3.34893018e-01,\n",
              "          2.11826175e-01,  1.25321209e-01, -1.71547532e-01,\n",
              "          1.00640088e-01, -1.15375653e-01,  1.90079659e-01,\n",
              "         -8.47986937e-02,  6.28606677e-02,  1.99845761e-01,\n",
              "          2.45215744e-01,  7.23403394e-02, -2.91493833e-01,\n",
              "         -8.52227211e-03, -1.44620329e-01, -3.38133276e-01,\n",
              "          1.25149757e-01,  8.10469687e-02, -1.38682678e-01,\n",
              "          2.71897167e-01,  7.65189528e-02, -2.96130776e-03,\n",
              "         -3.23005438e-01, -1.33593455e-01],\n",
              "        [ 5.97691536e-01, -3.46075028e-01,  3.96462798e-01,\n",
              "         -4.25064117e-01, -3.77076901e-02,  2.51077771e-01,\n",
              "         -9.61229801e-02,  3.11007679e-01,  4.97030050e-01,\n",
              "         -1.16106361e-01, -2.08388224e-01,  2.49509007e-01,\n",
              "          2.61744440e-01,  3.08829516e-01, -2.73969710e-01,\n",
              "         -4.71830189e-01, -1.27822623e-01, -4.72813219e-01,\n",
              "         -1.58127129e-01,  2.03111023e-02,  1.71169817e-01,\n",
              "         -4.32157099e-01, -3.27688828e-02,  3.46106261e-01,\n",
              "          3.22979063e-01, -1.56773463e-01,  3.76190022e-02,\n",
              "         -1.95372805e-01,  1.71960309e-01, -3.48813027e-01,\n",
              "         -1.00639291e-01,  1.55950263e-01],\n",
              "        [-1.78675592e-01,  4.42787111e-02, -2.03036308e-01,\n",
              "          2.99814045e-02,  1.60635859e-01,  2.41894633e-01,\n",
              "         -3.13374788e-01,  9.84965488e-02,  8.97197202e-02,\n",
              "          8.99094343e-03, -2.40908891e-01, -2.19854444e-01,\n",
              "          1.90049380e-01, -2.00597212e-01,  3.33148092e-01,\n",
              "          3.00084740e-01,  1.57404840e-01,  1.75307781e-01,\n",
              "         -7.66707659e-02, -3.83090377e-02,  1.56492298e-03,\n",
              "          2.21338660e-01, -3.19243908e-01, -1.36697829e-01,\n",
              "          3.02385658e-01, -2.94827223e-01, -8.89786482e-02,\n",
              "          2.22453445e-01,  6.61091730e-02, -1.45621061e-01,\n",
              "          2.13195890e-01, -1.97121501e-03],\n",
              "        [ 1.53464586e-01, -1.94528192e-01, -2.06260011e-01,\n",
              "         -2.03587815e-01,  2.14627683e-02, -2.14839175e-01,\n",
              "          3.22715312e-01, -2.64311075e-01, -2.43693411e-01,\n",
              "          3.45970005e-01,  4.93918061e-02,  2.63998002e-01,\n",
              "         -1.16370812e-01, -1.32892802e-01, -2.91476488e-01,\n",
              "          1.63706630e-01,  3.43474358e-01,  9.63138044e-02,\n",
              "         -2.15007678e-01, -2.67185897e-01,  1.32388234e-01,\n",
              "          4.35038209e-02,  4.01505232e-02, -7.76600242e-02,\n",
              "         -4.70570326e-02,  3.33380371e-01, -8.83725882e-02,\n",
              "          3.42192203e-01,  3.25723588e-02,  7.97152817e-02,\n",
              "          2.24801868e-01, -1.70430139e-01]], dtype=float32),\n",
              " array([-0.06611217, -0.00131193, -0.07706046,  0.2389729 ,  0.292863  ,\n",
              "        -0.05243933,  0.        , -0.07732422, -0.08596943,  0.25200692,\n",
              "         0.03906795, -0.08036914, -0.0304595 , -0.07456033,  0.12076853,\n",
              "         0.21604991, -0.04088467,  0.2628786 ,  0.        ,  0.15886405,\n",
              "        -0.02647708,  0.27182907,  0.03348815,  0.        ,  0.        ,\n",
              "         0.        ,  0.09158773, -0.00165152, -0.06645387,  0.23026238,\n",
              "         0.21386234, -0.00192107], dtype=float32),\n",
              " array([[-0.3025976 ,  0.46719283],\n",
              "        [-0.2350098 , -0.13615212],\n",
              "        [-0.29362506, -0.01547681],\n",
              "        [ 0.7224991 , -0.32553664],\n",
              "        [ 0.70332825, -0.31371444],\n",
              "        [ 0.18330443, -0.36245736],\n",
              "        [ 0.06029803,  0.3238596 ],\n",
              "        [-0.1794934 ,  0.5744391 ],\n",
              "        [-0.1369997 ,  0.5033371 ],\n",
              "        [ 0.7880497 , -0.24076667],\n",
              "        [ 0.11606204, -0.02944929],\n",
              "        [-0.6206849 ,  0.00812431],\n",
              "        [ 0.2834014 , -0.22805412],\n",
              "        [-0.3684911 ,  0.458782  ],\n",
              "        [ 0.5304323 ,  0.01201223],\n",
              "        [ 0.470436  , -0.7514097 ],\n",
              "        [-0.04591672, -0.09164745],\n",
              "        [ 0.80217725, -0.33299348],\n",
              "        [-0.129186  , -0.36663055],\n",
              "        [ 0.65116185, -0.6345385 ],\n",
              "        [ 0.07285737, -0.16436866],\n",
              "        [ 0.16258197, -0.8049461 ],\n",
              "        [ 0.4918993 , -0.45273423],\n",
              "        [ 0.36102024, -0.18816327],\n",
              "        [ 0.19713333,  0.17838797],\n",
              "        [ 0.14125809, -0.15673897],\n",
              "        [ 0.41182807, -0.20494372],\n",
              "        [-0.09914296,  0.40228128],\n",
              "        [ 0.19165088, -0.1074179 ],\n",
              "        [ 0.86660534, -0.58484066],\n",
              "        [ 0.75911653, -0.7090762 ],\n",
              "        [ 0.04529272,  0.1700278 ]], dtype=float32),\n",
              " array([ 0.06393287, -0.06393287], dtype=float32)]"
            ]
          },
          "metadata": {
            "tags": []
          },
          "execution_count": 63
        }
      ]
    }
  ]
}